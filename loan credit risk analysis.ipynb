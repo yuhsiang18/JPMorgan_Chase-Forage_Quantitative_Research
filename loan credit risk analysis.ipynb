{
 "cells": [
  {
   "cell_type": "markdown",
   "id": "bbae7532-e68e-4576-a31c-f1fc6b4fed17",
   "metadata": {},
   "source": [
    "# Task 3"
   ]
  },
  {
   "cell_type": "markdown",
   "id": "9263a933-ab1a-416f-a6bb-a32b0d536131",
   "metadata": {},
   "source": [
    "## My works"
   ]
  },
  {
   "cell_type": "code",
   "execution_count": 1,
   "id": "f7cc0e57-20a4-48d8-bf46-713ad4cffd19",
   "metadata": {},
   "outputs": [],
   "source": [
    "import pandas as pd"
   ]
  },
  {
   "cell_type": "code",
   "execution_count": 3,
   "id": "f8374737-d68e-40e4-9196-3905b5ae714d",
   "metadata": {
    "scrolled": true
   },
   "outputs": [
    {
     "data": {
      "text/html": [
       "<div>\n",
       "<style scoped>\n",
       "    .dataframe tbody tr th:only-of-type {\n",
       "        vertical-align: middle;\n",
       "    }\n",
       "\n",
       "    .dataframe tbody tr th {\n",
       "        vertical-align: top;\n",
       "    }\n",
       "\n",
       "    .dataframe thead th {\n",
       "        text-align: right;\n",
       "    }\n",
       "</style>\n",
       "<table border=\"1\" class=\"dataframe\">\n",
       "  <thead>\n",
       "    <tr style=\"text-align: right;\">\n",
       "      <th></th>\n",
       "      <th>customer_id</th>\n",
       "      <th>credit_lines_outstanding</th>\n",
       "      <th>loan_amt_outstanding</th>\n",
       "      <th>total_debt_outstanding</th>\n",
       "      <th>income</th>\n",
       "      <th>years_employed</th>\n",
       "      <th>fico_score</th>\n",
       "      <th>default</th>\n",
       "    </tr>\n",
       "  </thead>\n",
       "  <tbody>\n",
       "    <tr>\n",
       "      <th>0</th>\n",
       "      <td>8153374</td>\n",
       "      <td>0</td>\n",
       "      <td>5221.545193</td>\n",
       "      <td>3915.471226</td>\n",
       "      <td>78039.38546</td>\n",
       "      <td>5</td>\n",
       "      <td>605</td>\n",
       "      <td>0</td>\n",
       "    </tr>\n",
       "    <tr>\n",
       "      <th>1</th>\n",
       "      <td>7442532</td>\n",
       "      <td>5</td>\n",
       "      <td>1958.928726</td>\n",
       "      <td>8228.752520</td>\n",
       "      <td>26648.43525</td>\n",
       "      <td>2</td>\n",
       "      <td>572</td>\n",
       "      <td>1</td>\n",
       "    </tr>\n",
       "    <tr>\n",
       "      <th>2</th>\n",
       "      <td>2256073</td>\n",
       "      <td>0</td>\n",
       "      <td>3363.009259</td>\n",
       "      <td>2027.830850</td>\n",
       "      <td>65866.71246</td>\n",
       "      <td>4</td>\n",
       "      <td>602</td>\n",
       "      <td>0</td>\n",
       "    </tr>\n",
       "    <tr>\n",
       "      <th>3</th>\n",
       "      <td>4885975</td>\n",
       "      <td>0</td>\n",
       "      <td>4766.648001</td>\n",
       "      <td>2501.730397</td>\n",
       "      <td>74356.88347</td>\n",
       "      <td>5</td>\n",
       "      <td>612</td>\n",
       "      <td>0</td>\n",
       "    </tr>\n",
       "    <tr>\n",
       "      <th>4</th>\n",
       "      <td>4700614</td>\n",
       "      <td>1</td>\n",
       "      <td>1345.827718</td>\n",
       "      <td>1768.826187</td>\n",
       "      <td>23448.32631</td>\n",
       "      <td>6</td>\n",
       "      <td>631</td>\n",
       "      <td>0</td>\n",
       "    </tr>\n",
       "    <tr>\n",
       "      <th>...</th>\n",
       "      <td>...</td>\n",
       "      <td>...</td>\n",
       "      <td>...</td>\n",
       "      <td>...</td>\n",
       "      <td>...</td>\n",
       "      <td>...</td>\n",
       "      <td>...</td>\n",
       "      <td>...</td>\n",
       "    </tr>\n",
       "    <tr>\n",
       "      <th>9995</th>\n",
       "      <td>3972488</td>\n",
       "      <td>0</td>\n",
       "      <td>3033.647103</td>\n",
       "      <td>2553.733144</td>\n",
       "      <td>42691.62787</td>\n",
       "      <td>5</td>\n",
       "      <td>697</td>\n",
       "      <td>0</td>\n",
       "    </tr>\n",
       "    <tr>\n",
       "      <th>9996</th>\n",
       "      <td>6184073</td>\n",
       "      <td>1</td>\n",
       "      <td>4146.239304</td>\n",
       "      <td>5458.163525</td>\n",
       "      <td>79969.50521</td>\n",
       "      <td>8</td>\n",
       "      <td>615</td>\n",
       "      <td>0</td>\n",
       "    </tr>\n",
       "    <tr>\n",
       "      <th>9997</th>\n",
       "      <td>6694516</td>\n",
       "      <td>2</td>\n",
       "      <td>3088.223727</td>\n",
       "      <td>4813.090925</td>\n",
       "      <td>38192.67591</td>\n",
       "      <td>5</td>\n",
       "      <td>596</td>\n",
       "      <td>0</td>\n",
       "    </tr>\n",
       "    <tr>\n",
       "      <th>9998</th>\n",
       "      <td>3942961</td>\n",
       "      <td>0</td>\n",
       "      <td>3288.901666</td>\n",
       "      <td>1043.099660</td>\n",
       "      <td>50929.37206</td>\n",
       "      <td>2</td>\n",
       "      <td>647</td>\n",
       "      <td>0</td>\n",
       "    </tr>\n",
       "    <tr>\n",
       "      <th>9999</th>\n",
       "      <td>5533570</td>\n",
       "      <td>1</td>\n",
       "      <td>1917.652480</td>\n",
       "      <td>3050.248203</td>\n",
       "      <td>30611.62821</td>\n",
       "      <td>6</td>\n",
       "      <td>757</td>\n",
       "      <td>0</td>\n",
       "    </tr>\n",
       "  </tbody>\n",
       "</table>\n",
       "<p>10000 rows × 8 columns</p>\n",
       "</div>"
      ],
      "text/plain": [
       "      customer_id  credit_lines_outstanding  loan_amt_outstanding  \\\n",
       "0         8153374                         0           5221.545193   \n",
       "1         7442532                         5           1958.928726   \n",
       "2         2256073                         0           3363.009259   \n",
       "3         4885975                         0           4766.648001   \n",
       "4         4700614                         1           1345.827718   \n",
       "...           ...                       ...                   ...   \n",
       "9995      3972488                         0           3033.647103   \n",
       "9996      6184073                         1           4146.239304   \n",
       "9997      6694516                         2           3088.223727   \n",
       "9998      3942961                         0           3288.901666   \n",
       "9999      5533570                         1           1917.652480   \n",
       "\n",
       "      total_debt_outstanding       income  years_employed  fico_score  default  \n",
       "0                3915.471226  78039.38546               5         605        0  \n",
       "1                8228.752520  26648.43525               2         572        1  \n",
       "2                2027.830850  65866.71246               4         602        0  \n",
       "3                2501.730397  74356.88347               5         612        0  \n",
       "4                1768.826187  23448.32631               6         631        0  \n",
       "...                      ...          ...             ...         ...      ...  \n",
       "9995             2553.733144  42691.62787               5         697        0  \n",
       "9996             5458.163525  79969.50521               8         615        0  \n",
       "9997             4813.090925  38192.67591               5         596        0  \n",
       "9998             1043.099660  50929.37206               2         647        0  \n",
       "9999             3050.248203  30611.62821               6         757        0  \n",
       "\n",
       "[10000 rows x 8 columns]"
      ]
     },
     "execution_count": 3,
     "metadata": {},
     "output_type": "execute_result"
    }
   ],
   "source": [
    "loan = pd.read_csv(\"Loan_Data.csv\")\n",
    "loan"
   ]
  },
  {
   "cell_type": "code",
   "execution_count": 5,
   "id": "1c0e5d6e-5e80-4dfe-b65b-6482b4edc47d",
   "metadata": {
    "scrolled": true
   },
   "outputs": [
    {
     "name": "stdout",
     "output_type": "stream",
     "text": [
      "customer_id                 0\n",
      "credit_lines_outstanding    0\n",
      "loan_amt_outstanding        0\n",
      "total_debt_outstanding      0\n",
      "income                      0\n",
      "years_employed              0\n",
      "fico_score                  0\n",
      "default                     0\n",
      "dtype: int64\n"
     ]
    }
   ],
   "source": [
    "missing_values = loan.isnull().sum()\n",
    "print(missing_values)"
   ]
  },
  {
   "cell_type": "code",
   "execution_count": 7,
   "id": "ac5a6f8e-1cf5-4bd7-83b3-02463855d3cb",
   "metadata": {},
   "outputs": [
    {
     "name": "stdout",
     "output_type": "stream",
     "text": [
      "AUC-ROC: 0.9999812075148893\n",
      "\n",
      "Classification Report:\n",
      "               precision    recall  f1-score   support\n",
      "\n",
      "           0       1.00      1.00      1.00      2459\n",
      "           1       1.00      0.99      0.99       541\n",
      "\n",
      "    accuracy                           1.00      3000\n",
      "   macro avg       1.00      0.99      1.00      3000\n",
      "weighted avg       1.00      1.00      1.00      3000\n",
      "\n"
     ]
    }
   ],
   "source": [
    "from sklearn.model_selection import train_test_split\n",
    "from sklearn.linear_model import LogisticRegression\n",
    "from sklearn.metrics import classification_report, roc_auc_score\n",
    "\n",
    "# Add the 'debt_to_income_ratio' feature\n",
    "loan['debt_to_income_ratio'] = loan['total_debt_outstanding'] / loan['income']\n",
    "\n",
    "# Define the features (X) and target (y)\n",
    "X = loan.drop(columns=['customer_id', 'default'])\n",
    "y = loan['default']\n",
    "\n",
    "# Split the data into training and test sets\n",
    "X_train, X_test, y_train, y_test = train_test_split(X, y, test_size=0.3, random_state=42)\n",
    "\n",
    "# Initialize and train the Logistic Regression model\n",
    "logreg = LogisticRegression(random_state=42, max_iter=1000)\n",
    "logreg.fit(X_train, y_train)\n",
    "\n",
    "# Evaluate the model\n",
    "y_pred_prob = logreg.predict_proba(X_test)[:, 1]\n",
    "y_pred = logreg.predict(X_test)\n",
    "\n",
    "print(\"AUC-ROC:\", roc_auc_score(y_test, y_pred_prob))\n",
    "# The AUC-ROC score tells us how well the model can distinguish between the classes, \n",
    "# with 1 being perfect and 0.5 being no better than random guessing.\n",
    "print(\"\\nClassification Report:\\n\", classification_report(y_test, y_pred))"
   ]
  },
  {
   "cell_type": "code",
   "execution_count": 9,
   "id": "e40a3328-24e1-4d07-8230-bab0b53317b7",
   "metadata": {},
   "outputs": [],
   "source": [
    "def calculate_pd(loan_details):\n",
    "    # Predict the probability of default\n",
    "    pd = logreg.predict_proba(loan_details)[:, 1]\n",
    "    return pd"
   ]
  },
  {
   "cell_type": "code",
   "execution_count": 11,
   "id": "844a0e6f-12fe-45b8-96dd-d8026f7ed130",
   "metadata": {},
   "outputs": [],
   "source": [
    "def calculate_expected_loss(loan_details, loan_amt_outstanding, recovery_rate=0.10):\n",
    "    # Calculate the Probability of Default (PD)\n",
    "    pd = calculate_pd(loan_details)\n",
    "    \n",
    "    # Calculate the expected loss\n",
    "    expected_loss = loan_amt_outstanding * pd * (1 - recovery_rate)\n",
    "    return expected_loss"
   ]
  },
  {
   "cell_type": "code",
   "execution_count": 13,
   "id": "ca236a27-fed3-4a02-86ea-a7d4a287a87a",
   "metadata": {},
   "outputs": [
    {
     "name": "stdout",
     "output_type": "stream",
     "text": [
      "Expected Loss: $79.05\n"
     ]
    }
   ],
   "source": [
    "# Example loan details with the new feature\n",
    "loan_details = pd.DataFrame({\n",
    "    'credit_lines_outstanding': [4],\n",
    "    'loan_amt_outstanding': [5000],\n",
    "    'total_debt_outstanding': [7500],\n",
    "    'income': [60000],\n",
    "    'years_employed': [5],\n",
    "    'fico_score': [650],\n",
    "})\n",
    "\n",
    "loan_details['debt_to_income_ratio'] = loan_details['total_debt_outstanding'] / loan_details['income']\n",
    "\n",
    "# Calculate the expected loss\n",
    "loan_amt_outstanding = loan_details['loan_amt_outstanding'][0]\n",
    "expected_loss = calculate_expected_loss(loan_details, loan_amt_outstanding)\n",
    "\n",
    "print(f\"Expected Loss: ${expected_loss[0]:.2f}\")"
   ]
  },
  {
   "cell_type": "markdown",
   "id": "ad4421c9-24f8-4dae-b7be-351c5186044a",
   "metadata": {},
   "source": [
    "## JPMorgan Chase example"
   ]
  },
  {
   "cell_type": "code",
   "execution_count": 16,
   "id": "8470a68b-212f-41b6-b8d3-d7f1999a2f06",
   "metadata": {},
   "outputs": [
    {
     "name": "stdout",
     "output_type": "stream",
     "text": [
      "[[ 8.18520373  0.54490854  0.01994244 -2.77630853 -0.02418391]] [-0.09162643]\n",
      "0.0037\n",
      "0.9925106069101026\n"
     ]
    }
   ],
   "source": [
    "from sklearn.linear_model import LogisticRegression\n",
    "from sklearn import metrics\n",
    "import numpy as np\n",
    "import pandas as pd\n",
    "\n",
    "# Read in loan data from a CSV file\n",
    "df = pd.read_csv('Loan_Data.csv')\n",
    "\n",
    "# Define the variable features\n",
    "features = ['credit_lines_outstanding', 'debt_to_income', 'payment_to_income', 'years_employed', 'fico_score']\n",
    "\n",
    "# Calculate the payment_to_income ratio\n",
    "df['payment_to_income'] = df['loan_amt_outstanding'] / df['income']\n",
    "    \n",
    "# Calculate the debt_to_income ratio\n",
    "df['debt_to_income'] = df['total_debt_outstanding'] / df['income']\n",
    "\n",
    "clf = LogisticRegression(random_state=0, solver='liblinear', tol=1e-5, max_iter=10000).fit(df[features], df['default'])\n",
    "print(clf.coef_, clf.intercept_)\n",
    "\n",
    "# Use the following code to check yourself\n",
    "y_pred = clf.predict(df[features])\n",
    "\n",
    "fpr, tpr, thresholds = metrics.roc_curve(df['default'], y_pred)\n",
    "print((1.0*(abs(df['default']-y_pred)).sum()) / len(df))\n",
    "print(metrics.auc(fpr, tpr))"
   ]
  },
  {
   "cell_type": "markdown",
   "id": "ebcffdac-605b-4fb0-b475-09d192d97900",
   "metadata": {},
   "source": [
    "# Task 4"
   ]
  },
  {
   "cell_type": "markdown",
   "id": "a5286701-855a-4131-b64e-29a4666a27de",
   "metadata": {},
   "source": [
    "#### Quantization\n",
    "Quantization is the process of mapping a large range of input values to a smaller range of output values. In this task, we're focusing on mapping FICO scores (which can range from 300 to 850) into a smaller number of buckets (or categories). Each bucket will represent a range of FICO scores, and we’ll assign a rating to each bucket."
   ]
  },
  {
   "cell_type": "markdown",
   "id": "bffeccc8-4d8c-4988-bbd6-b8ad0cacde54",
   "metadata": {},
   "source": [
    "## My works"
   ]
  },
  {
   "cell_type": "markdown",
   "id": "a8e230fa-6da5-477d-bcdb-6d995213abc8",
   "metadata": {},
   "source": [
    "### MSE"
   ]
  },
  {
   "cell_type": "code",
   "execution_count": 22,
   "id": "68f9b209-43c2-45ab-89cd-64faf0e1b269",
   "metadata": {},
   "outputs": [],
   "source": [
    "import numpy as np"
   ]
  },
  {
   "cell_type": "code",
   "execution_count": 24,
   "id": "32d52f81-55c0-4e23-9a74-df2114a0eb69",
   "metadata": {},
   "outputs": [
    {
     "name": "stdout",
     "output_type": "stream",
     "text": [
      "Boundaries: [408. 587. 623. 653. 688. 850.]\n",
      "Bucket Means: bucket\n",
      "0    552.611707\n",
      "1    606.751395\n",
      "2    638.579688\n",
      "3    670.346520\n",
      "4    721.524837\n",
      "Name: fico_score, dtype: float64\n",
      "Mean Squared Error (MSE): 392.65\n"
     ]
    }
   ],
   "source": [
    "fico_scores = loan['fico_score']\n",
    "defaults = loan['default']\n",
    "\n",
    "# Define the number of buckets\n",
    "num_buckets = 5\n",
    "\n",
    "# Step 1: Determine the bucket boundaries (using quantiles for simplicity)\n",
    "boundaries = np.percentile(fico_scores, np.linspace(0, 100, num_buckets + 1))\n",
    "\n",
    "# Step 2: Assign each FICO score to a bucket\n",
    "loan['bucket'] = pd.cut(fico_scores, bins=boundaries, labels=False, include_lowest=True)\n",
    "\n",
    "# Step 3: Calculate the average FICO score for each bucket (to minimize MSE)\n",
    "bucket_means = loan.groupby('bucket')['fico_score'].mean()\n",
    "\n",
    "# Step 4: Map the bucket mean to each row in the DataFrame\n",
    "loan['bucket_mean'] = loan['bucket'].map(bucket_means)\n",
    "\n",
    "# Step 5: Calculate the squared error\n",
    "loan['squared_error'] = (loan['fico_score'] - loan['bucket_mean']) ** 2\n",
    "\n",
    "# Step 6: Calculate the overall MSE\n",
    "mse = loan['squared_error'].mean()\n",
    "\n",
    "print(\"Boundaries:\", boundaries)\n",
    "print(\"Bucket Means:\", bucket_means)\n",
    "print(f\"Mean Squared Error (MSE): {mse:.2f}\")"
   ]
  },
  {
   "cell_type": "markdown",
   "id": "69db60f5-58d5-4676-932b-d16866e7b1c3",
   "metadata": {},
   "source": [
    "#### Using K-Means to optimize"
   ]
  },
  {
   "cell_type": "code",
   "execution_count": 27,
   "id": "051d5771-5db9-4c4b-aea7-bbd36ceb3fa5",
   "metadata": {},
   "outputs": [
    {
     "name": "stdout",
     "output_type": "stream",
     "text": [
      "Bucket Means: bucket\n",
      "0    593.242118\n",
      "1    640.889328\n",
      "2    687.201020\n",
      "3    531.374074\n",
      "4    743.170478\n",
      "Name: fico_score, dtype: float64\n",
      "Mean Squared Error (MSE): 300.52\n"
     ]
    }
   ],
   "source": [
    "from sklearn.cluster import KMeans\n",
    "\n",
    "fico_scores = loan['fico_score'].values.reshape(-1, 1)\n",
    "\n",
    "# Define the number of clusters (buckets)\n",
    "num_buckets = 5\n",
    "\n",
    "# Step 1: Apply K-means clustering\n",
    "kmeans = KMeans(n_clusters=num_buckets, random_state=42)\n",
    "loan['bucket'] = kmeans.fit_predict(fico_scores)\n",
    "\n",
    "# Step 2: Calculate the mean FICO score for each cluster (bucket)\n",
    "bucket_means = loan.groupby('bucket')['fico_score'].mean()\n",
    "\n",
    "# Step 3: Map the bucket mean to each row in the DataFrame\n",
    "loan['bucket_mean'] = loan['bucket'].map(bucket_means)\n",
    "\n",
    "# Step 4: Calculate the Mean Squared Error (MSE)\n",
    "loan['squared_error'] = (loan['fico_score'] - loan['bucket_mean']) ** 2\n",
    "mse = loan['squared_error'].mean()\n",
    "\n",
    "print(\"Bucket Means:\", bucket_means)\n",
    "print(f\"Mean Squared Error (MSE): {mse:.2f}\")"
   ]
  },
  {
   "cell_type": "markdown",
   "id": "08f613eb-53af-480d-9ac0-8f2dd656bb0d",
   "metadata": {},
   "source": [
    "### Logical Regression"
   ]
  },
  {
   "cell_type": "code",
   "execution_count": 30,
   "id": "f4fdc9b3-70b4-439e-8222-b8e7664a33ac",
   "metadata": {},
   "outputs": [
    {
     "name": "stdout",
     "output_type": "stream",
     "text": [
      "Accuracy: 0.99\n",
      "ROC AUC Score: 1.00\n",
      "              precision    recall  f1-score   support\n",
      "\n",
      "           0       0.99      0.99      0.99      2459\n",
      "           1       0.98      0.96      0.97       541\n",
      "\n",
      "    accuracy                           0.99      3000\n",
      "   macro avg       0.98      0.98      0.98      3000\n",
      "weighted avg       0.99      0.99      0.99      3000\n",
      "\n"
     ]
    },
    {
     "name": "stderr",
     "output_type": "stream",
     "text": [
      "/opt/anaconda3/lib/python3.12/site-packages/sklearn/linear_model/_logistic.py:469: ConvergenceWarning: lbfgs failed to converge (status=1):\n",
      "STOP: TOTAL NO. of ITERATIONS REACHED LIMIT.\n",
      "\n",
      "Increase the number of iterations (max_iter) or scale the data as shown in:\n",
      "    https://scikit-learn.org/stable/modules/preprocessing.html\n",
      "Please also refer to the documentation for alternative solver options:\n",
      "    https://scikit-learn.org/stable/modules/linear_model.html#logistic-regression\n",
      "  n_iter_i = _check_optimize_result(\n"
     ]
    }
   ],
   "source": [
    "from sklearn.model_selection import train_test_split\n",
    "from sklearn.linear_model import LogisticRegression\n",
    "from sklearn.metrics import accuracy_score, roc_auc_score, classification_report\n",
    "\n",
    "# Step 1: Select Features and Target\n",
    "X = loan.drop(columns=['customer_id', 'default'])\n",
    "y = loan['default']\n",
    "\n",
    "# Step 2: Split Data into Training and Test Sets\n",
    "X_train, X_test, y_train, y_test = train_test_split(X, y, test_size=0.3, random_state=42)\n",
    "\n",
    "# Step 3: Initialize Logistic Regression Model\n",
    "logreg = LogisticRegression()\n",
    "\n",
    "# Step 4: Train the Model\n",
    "logreg.fit(X_train, y_train)\n",
    "\n",
    "# Step 5: Make Predictions\n",
    "y_pred = logreg.predict(X_test)\n",
    "y_pred_prob = logreg.predict_proba(X_test)[:, 1]  # Probability of default\n",
    "\n",
    "# Step 6: Evaluate the Model\n",
    "accuracy = accuracy_score(y_test, y_pred)\n",
    "roc_auc = roc_auc_score(y_test, y_pred_prob)\n",
    "\n",
    "print(f\"Accuracy: {accuracy:.2f}\")\n",
    "print(f\"ROC AUC Score: {roc_auc:.2f}\")\n",
    "print(classification_report(y_test, y_pred))"
   ]
  },
  {
   "cell_type": "markdown",
   "id": "f3595b25-a517-494a-91a7-4139f5e31700",
   "metadata": {},
   "source": [
    "## JPMorgan Chase example"
   ]
  },
  {
   "cell_type": "markdown",
   "id": "4ffb2849-1d1a-45c0-8610-b972d63a4275",
   "metadata": {},
   "source": [
    "### Maximum Likelihood Estimation\n",
    "The log-likelihood function is defined to calculate the likelihood of a given set of parameters. The likelihood function is used to calculate the probability of observing the data given the parameter values. The code then initializes a three-dimensional array, dp, that is used to store the calculated log-likelihood values for different sets of observations. The first dimension represents the number of iterations performed, the second dimension represents the rank of the observation, and the third dimension represents the log-likelihood and the index of the previous observation."
   ]
  },
  {
   "cell_type": "code",
   "execution_count": 33,
   "id": "dcac28a2-b94c-4d5a-baf6-c697bf7de8a1",
   "metadata": {},
   "outputs": [
    {
     "name": "stdout",
     "output_type": "stream",
     "text": [
      "10000 10000\n"
     ]
    }
   ],
   "source": [
    "import pandas as pd\n",
    "from math import log\n",
    "\n",
    "df = pd.read_csv('Loan_Data.csv')\n",
    "\n",
    "x = df['default'].to_list()\n",
    "y = df['fico_score'].to_list()\n",
    "n = len(x)\n",
    "print (len(x), len(y))"
   ]
  },
  {
   "cell_type": "code",
   "execution_count": 35,
   "id": "616cf7cb-0a61-4ade-a0a9-9b53df637f79",
   "metadata": {},
   "outputs": [
    {
     "name": "stdout",
     "output_type": "stream",
     "text": [
      "-4217.8245\n",
      "[850, 753, 752, 732, 696, 649, 611, 580, 552, 520, 300]\n"
     ]
    }
   ],
   "source": [
    "default = [0 for i in range(851)]\n",
    "total = [0 for i in range(851)]\n",
    "\n",
    "for i in range(n):\n",
    "    y[i] = int(y[i])\n",
    "    default[y[i]-300] += x[i]\n",
    "    total[y[i]-300] += 1\n",
    "    \n",
    "for i in range(0, 551):\n",
    "    default[i] += default[i-1]\n",
    "    total[i] += total[i-1]\n",
    "    \n",
    "import numpy as np\n",
    "    \n",
    "def log_likelihood(n, k):\n",
    "    p = k/n\n",
    "    if (p==0 or p==1):\n",
    "        return 0\n",
    "    return k*np.log(p)+ (n-k)*np.log(1-p)\n",
    "\n",
    "r = 10\n",
    "dp = [[[-10**18, 0] for i in range(551)] for j in range(r+1)]\n",
    "\n",
    "for i in range(r+1):\n",
    "    for j in range(551):\n",
    "        if (i==0):\n",
    "            dp[i][j][0] = 0\n",
    "        else:\n",
    "            for k in range(j):\n",
    "                if (total[j]==total[k]):\n",
    "                    continue\n",
    "                if (i==1):\n",
    "                    dp[i][j][0] = log_likelihood(total[j], default[j])\n",
    "                else:\n",
    "                    if (dp[i][j][0] < (dp[i-1][k][0] + log_likelihood(total[j]-total[k], default[j] - default[k]))):\n",
    "                        dp[i][j][0] = log_likelihood(total[j]-total[k], default[j]-default[k]) + dp[i-1][k][0]\n",
    "                        dp[i][j][1] = k\n",
    "                                                     \n",
    "print (round(dp[r][550][0], 4))\n",
    "                                                     \n",
    "k = 550\n",
    "l = []\n",
    "while r >= 0:\n",
    "    l.append(k+300)\n",
    "    k = dp[r][k][1]\n",
    "    r -= 1\n",
    "\n",
    "print(l)"
   ]
  }
 ],
 "metadata": {
  "kernelspec": {
   "display_name": "Python 3 (ipykernel)",
   "language": "python",
   "name": "python3"
  },
  "language_info": {
   "codemirror_mode": {
    "name": "ipython",
    "version": 3
   },
   "file_extension": ".py",
   "mimetype": "text/x-python",
   "name": "python",
   "nbconvert_exporter": "python",
   "pygments_lexer": "ipython3",
   "version": "3.12.4"
  }
 },
 "nbformat": 4,
 "nbformat_minor": 5
}
